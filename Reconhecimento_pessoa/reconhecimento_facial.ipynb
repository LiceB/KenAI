{
 "cells": [
  {
   "cell_type": "code",
   "execution_count": 1,
   "metadata": {},
   "outputs": [],
   "source": [
    "import cv2\n",
    "import face_recognition as fr\n",
    "import os\n",
    "import numpy as np"
   ]
  },
  {
   "cell_type": "code",
   "execution_count": 2,
   "metadata": {},
   "outputs": [],
   "source": [
    "# Essa função carrega várias imagens de uma pasta e as armazena em uma lista\n",
    "def load_images_from_folder(folder):\n",
    "    images = []\n",
    "    for filename in os.listdir(folder):\n",
    "        if filename.endswith(\".jpg\") or filename.endswith(\".png\"):  # Verifica se o arquivo é uma imagem\n",
    "            img_path = os.path.join(folder, filename)\n",
    "            img = fr.load_image_file(img_path)  # Carrega a imagem\n",
    "            images.append((filename, img))  # Adiciona a imagem e seu nome à lista\n",
    "    return images"
   ]
  },
  {
   "cell_type": "code",
   "execution_count": 3,
   "metadata": {},
   "outputs": [],
   "source": [
    "# pré-processa imagens da lista, converte para RGB, detecta rostos nelas, \n",
    "# e pega as os encondings (codificações faciais) e os armazena em listas\n",
    "def preprocess_images(images):\n",
    "    processed_images = []\n",
    "    encodings = []\n",
    "    for filename, img in images:\n",
    "        rgb_img = cv2.cvtColor(img, cv2.COLOR_BGR2RGB)#convertendo em rgb\n",
    "        face_locations = fr.face_locations(rgb_img)\n",
    "        if face_locations:\n",
    "            face_encoding = fr.face_encodings(rgb_img, face_locations)[0] #pegando as codificações faciais\n",
    "            processed_images.append((filename, rgb_img, face_locations[0]))\n",
    "            encodings.append(face_encoding)\n",
    "    return processed_images, encodings"
   ]
  },
  {
   "cell_type": "code",
   "execution_count": 4,
   "metadata": {},
   "outputs": [],
   "source": [
    "#  exibe imagens em uma janela,converte de RGB para BGR\n",
    "# define que a imagem fecha ao apertar esc ou aguardando 10 segundos \n",
    "def show_images(images):\n",
    "    for filename, img in images:\n",
    "        # Convertendo de RGB para BGR \n",
    "        bgr_img = cv2.cvtColor(img, cv2.COLOR_RGB2BGR)\n",
    "        cv2.imshow(filename, bgr_img)\n",
    "        # Aguarde 10 segundos entre mostrar as imagens ou até pressionar esc\n",
    "        if cv2.waitKey(10000) & 0xFF == 27: \n",
    "            break\n",
    "    cv2.destroyAllWindows()\n"
   ]
  },
  {
   "cell_type": "code",
   "execution_count": 5,
   "metadata": {},
   "outputs": [],
   "source": [
    "# redimensiona as imagens e coloca um tamanho máximo\n",
    "def resize_image(image, max_size):\n",
    "    height, width = image.shape[:2]\n",
    "    scaling_factor = min(max_size / float(height), max_size / float(width))\n",
    "    new_size = (int(width * scaling_factor), int(height * scaling_factor))\n",
    "    resized_image = cv2.resize(image, new_size, interpolation=cv2.INTER_AREA)\n",
    "    return resized_image"
   ]
  },
  {
   "cell_type": "code",
   "execution_count": 6,
   "metadata": {},
   "outputs": [],
   "source": [
    "# coloca as imagens em listas\n",
    "recognition_folder = r'D:\\FIAP\\2024\\1_Semestre\\AI ENGENEERING, COGNITIVE AND SEMANTIC COMPUTATION & IOT\\CP\\KenAI\\Reconhecimento_pessoa\\images\\imagens'\n",
    "test_folder = r'D:\\FIAP\\2024\\1_Semestre\\AI ENGENEERING, COGNITIVE AND SEMANTIC COMPUTATION & IOT\\CP\\KenAI\\Reconhecimento_pessoa\\images\\Test'\n",
    "\n",
    "# Carregar e pré-processar imagens\n",
    "recognition_images = load_images_from_folder(recognition_folder)\n",
    "test_images = load_images_from_folder(test_folder)\n",
    "\n",
    "# chama a função preprocess_images\n",
    "processed_recognition_images, recognition_encodings = preprocess_images(recognition_images)\n",
    "processed_test_images, test_encodings = preprocess_images(test_images)\n",
    "\n",
    "# Tamanho máximo das imagens\n",
    "max_image_size = 400"
   ]
  },
  {
   "cell_type": "code",
   "execution_count": 7,
   "metadata": {},
   "outputs": [],
   "source": [
    "# Comparar o rosto reconhecido com o rosto das fotos\n",
    "for test_filename, test_img, test_face_loc in processed_test_images:\n",
    "    test_face_encoding = fr.face_encodings(test_img, [test_face_loc])[0]\n",
    "    matches = fr.compare_faces(recognition_encodings, test_face_encoding)\n",
    "    face_distances = fr.face_distance(recognition_encodings, test_face_encoding)\n",
    "    \n",
    "    best_match_index = np.argmin(face_distances)\n",
    "    if matches[best_match_index]:\n",
    "        name = \"LARISSA\"\n",
    "        #firula apenas\n",
    "        color = (0, 255, 0)  # Verde\n",
    "        font = 3\n",
    "        tamanho = 100\n",
    "    else:\n",
    "        name = \"OUTRA PESSOA\"\n",
    "         #mais firula\n",
    "        color = (0, 0, 255)  # Vermelho\n",
    "        font = 0.8\n",
    "        tamanho = 40\n",
    "\n",
    "    # Desenhar o retângulo ao redor do rosto detectado\n",
    "    cv2.rectangle(test_img, (test_face_loc[3], test_face_loc[0]), (test_face_loc[1], test_face_loc[2]), color, 6)\n",
    "    \n",
    "    # Colocar o texto logo abaixo do retângulo\n",
    "    text_position = (test_face_loc[3], test_face_loc[2] + tamanho)\n",
    "    cv2.putText(test_img, name, text_position, cv2.FONT_HERSHEY_DUPLEX, font, color, 2, cv2.LINE_AA)\n",
    "\n",
    "    # Redimensionar a imagem se necessário\n",
    "    resized_img = resize_image(test_img, max_image_size)\n",
    "    \n",
    "    # Mostrar imagem de teste com a anotação\n",
    "    cv2.imshow('Result', resized_img)\n",
    "    key = cv2.waitKey(0) & 0xFF\n",
    "    if key == 27:  # Press 'Esc' to move to the next image\n",
    "        continue\n",
    "\n",
    "# Liberar todas as janelas do OpenCV\n",
    "cv2.destroyAllWindows()"
   ]
  }
 ],
 "metadata": {
  "kernelspec": {
   "display_name": "Python 3",
   "language": "python",
   "name": "python3"
  },
  "language_info": {
   "codemirror_mode": {
    "name": "ipython",
    "version": 3
   },
   "file_extension": ".py",
   "mimetype": "text/x-python",
   "name": "python",
   "nbconvert_exporter": "python",
   "pygments_lexer": "ipython3",
   "version": "3.11.9"
  }
 },
 "nbformat": 4,
 "nbformat_minor": 2
}
