{
 "cells": [
  {
   "cell_type": "code",
   "execution_count": null,
   "metadata": {},
   "outputs": [],
   "source": [
    "import os\n",
    "import numpy as np\n",
    "import tensorflow as tf\n",
    "import face_recognition as fr\n",
    "import cv2"
   ]
  },
  {
   "cell_type": "code",
   "execution_count": null,
   "metadata": {},
   "outputs": [],
   "source": [
    "model_save_path = r'D:\\FIAP\\2024\\1_Semestre\\AI ENGENEERING, COGNITIVE AND SEMANTIC COMPUTATION & IOT\\CP\\KenAI\\Reconhecimento_pessoa\\modelo.h5'\n",
    "modelo = tf.keras.models.load_model(model_save_path)"
   ]
  },
  {
   "cell_type": "code",
   "execution_count": null,
   "metadata": {},
   "outputs": [],
   "source": [
    "# Função para reconhecimento facial ao vivo\n",
    "def live_face_recognition(model, cap):\n",
    "    while True:\n",
    "        ret, frame = cap.read()  # Captura um frame da webcam\n",
    "        if not ret:\n",
    "            break\n",
    "\n",
    "        # Converter o frame para RGB para o face_recognition\n",
    "        rgb_frame = cv2.cvtColor(frame, cv2.COLOR_BGR2RGB)\n",
    "\n",
    "        # Encontrar as localizações dos rostos no frame usando face_recognition\n",
    "        face_locations = fr.face_locations(rgb_frame)\n",
    "\n",
    "       # Pré-processar cada rosto e calcular os face encodings\n",
    "        for (top, right, bottom, left) in face_locations:\n",
    "            face_img = rgb_frame[top:bottom, left:right]  # Recortar o rosto\n",
    "            \n",
    "            # Redimensionar o rosto para o tamanho esperado pelo modelo (32x32)\n",
    "            resized_face_img = cv2.resize(face_img, (32, 32))\n",
    "            \n",
    "            # Converter a imagem para o formato adequado (32, 32, 3)\n",
    "            resized_face_img = cv2.cvtColor(resized_face_img, cv2.COLOR_RGB2BGR)  # Se necessário\n",
    "            \n",
    "            # Passar as coordenadas do rosto para face_encodings\n",
    "            face_encodings = fr.face_encodings(rgb_frame, [(top, right, bottom, left)])  # Obter o encoding do rosto\n",
    "            if face_encodings:\n",
    "                face_encoding = face_encodings[0]\n",
    "\n",
    "                # Adicionar dimensão de lote\n",
    "                face_encoding = np.expand_dims(face_encoding, axis=0)\n",
    "\n",
    "                # Fazer previsão usando o modelo\n",
    "                predictions = model.predict(resized_face_img)  # Passar a imagem redimensionada\n",
    "                predicted_class = np.argmax(predictions)\n",
    "\n",
    "                # Definir a cor e o rótulo com base na classe prevista\n",
    "                color = (0, 255, 0) if predicted_class == 0 else (0, 0, 255)  # Verde para reconhecido, vermelho para não reconhecido\n",
    "                label = \"Larissa\" if predicted_class == 0 else \"Outra pessoa\"\n",
    "\n",
    "                # Desenhar o retângulo ao redor do rosto detectado na webcam e escrever o nome\n",
    "                cv2.rectangle(frame, (left, top), (right, bottom), color, 2)\n",
    "                cv2.putText(frame, label, (left, top - 10), cv2.FONT_HERSHEY_SIMPLEX, 0.5, color, 2)\n",
    "\n",
    "        scale_percent = 50  # Percentual do tamanho original\n",
    "        width = int(frame.shape[1] * scale_percent / 200)\n",
    "        height = int(frame.shape[0] * scale_percent / 200)\n",
    "        resized_frame = cv2.resize(frame, (width, height), interpolation=cv2.INTER_AREA)\n",
    "\n",
    "        # Mostrar o frame com o resultado do reconhecimento facial em tempo real\n",
    "        cv2.imshow('Live Face Recognition', resized_frame)\n",
    "\n",
    "        # Pressione 'esc' para sair do loop\n",
    "        if cv2.waitKey(1) & 0xFF == 27:\n",
    "            break\n",
    "\n",
    "    # Liberar a webcam e fechar a janela\n",
    "    cap.release()\n",
    "    cv2.destroyAllWindows()\n",
    "\n",
    "# Inicializar o objeto de captura de vídeo\n",
    "cap = cv2.VideoCapture(0)\n",
    "\n",
    "# Verificar se a webcam foi aberta corretamente\n",
    "if not cap.isOpened():\n",
    "    print(\"Erro ao abrir a webcam\")\n",
    "    exit()\n",
    "\n",
    "# Chamar a função de reconhecimento facial ao vivo\n",
    "live_face_recognition(modelo, cap)"
   ]
  },
  {
   "cell_type": "code",
   "execution_count": null,
   "metadata": {},
   "outputs": [],
   "source": []
  }
 ],
 "metadata": {
  "kernelspec": {
   "display_name": "Python 3",
   "language": "python",
   "name": "python3"
  },
  "language_info": {
   "codemirror_mode": {
    "name": "ipython",
    "version": 3
   },
   "file_extension": ".py",
   "mimetype": "text/x-python",
   "name": "python",
   "nbconvert_exporter": "python",
   "pygments_lexer": "ipython3",
   "version": "3.11.9"
  }
 },
 "nbformat": 4,
 "nbformat_minor": 2
}
